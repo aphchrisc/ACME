{
 "cells": [
  {
   "cell_type": "markdown",
   "id": "c8468400",
   "metadata": {},
   "source": [
    "# City of Austin Cultural Grants Community Survey Analysis\n",
    "## Dr. Anya Sharma - Civic Arts & Equity Consulting\n",
    "\n",
    "This notebook contains the comprehensive analysis of the City of Austin Cultural Arts Division's community feedback survey, applying the Civic Resonance Framework to transform raw community feedback into actionable strategic insights."
   ]
  },
  {
   "cell_type": "code",
   "execution_count": null,
   "id": "fdf5a636",
   "metadata": {},
   "outputs": [],
   "source": [
    "# Import required libraries\n",
    "import pandas as pd\n",
    "import numpy as np\n",
    "import matplotlib.pyplot as plt\n",
    "import seaborn as sns\n",
    "from wordcloud import WordCloud\n",
    "import nltk\n",
    "from textblob import TextBlob\n",
    "import warnings\n",
    "warnings.filterwarnings('ignore')\n",
    "\n",
    "# Configure visualization settings\n",
    "plt.style.use('seaborn-v0_8-darkgrid')\n",
    "sns.set_palette(\"husl\")\n",
    "plt.rcParams['figure.figsize'] = (12, 8)\n",
    "plt.rcParams['font.size'] = 12\n",
    "\n",
    "# Download necessary NLTK data\n",
    "import ssl\n",
    "try:\n",
    "    _create_unverified_https_context = ssl._create_unverified_context\n",
    "except AttributeError:\n",
    "    pass\n",
    "else:\n",
    "    ssl._create_default_https_context = _create_unverified_https_context\n",
    "\n",
    "nltk.download('punkt', quiet=True)\n",
    "nltk.download('stopwords', quiet=True)\n",
    "nltk.download('vader_lexicon', quiet=True)"
   ]
  },
  {
   "cell_type": "markdown",
   "id": "ee02283e",
   "metadata": {},
   "source": [
    "## Phase 1: Diagnostic & Data Immersion\n",
    "Loading and exploring the survey dataset to understand its structure and content."
   ]
  },
  {
   "cell_type": "code",
   "execution_count": null,
   "id": "33069249",
   "metadata": {},
   "outputs": [],
   "source": [
    "# Load the survey data\n",
    "df = pd.read_excel('ACME.xlsx')\n",
    "\n",
    "# Basic dataset overview\n",
    "print(f\"Dataset Shape: {df.shape}\")\n",
    "print(f\"Total Responses: {df.shape[0]:,}\")\n",
    "print(f\"Total Questions: {df.shape[1]}\")\n",
    "print(\"\\n\" + \"=\"*50 + \"\\n\")\n",
    "\n",
    "# Display column names to understand survey structure\n",
    "print(\"Survey Questions/Columns:\")\n",
    "for i, col in enumerate(df.columns, 1):\n",
    "    print(f\"{i}. {col}\")\n",
    "    \n",
    "# Check for missing data patterns\n",
    "print(\"\\n\" + \"=\"*50 + \"\\n\")\n",
    "print(\"Missing Data Summary:\")\n",
    "missing_summary = pd.DataFrame({\n",
    "    'Column': df.columns,\n",
    "    'Missing_Count': df.isnull().sum(),\n",
    "    'Missing_Percentage': (df.isnull().sum() / len(df) * 100).round(2)\n",
    "})\n",
    "missing_summary = missing_summary[missing_summary['Missing_Count'] > 0].sort_values('Missing_Count', ascending=False)\n",
    "print(missing_summary.to_string(index=False))"
   ]
  },
  {
   "cell_type": "markdown",
   "id": "2d59ba23",
   "metadata": {},
   "source": [
    "## Summary of Analysis\n",
    "\n",
    "The comprehensive analysis of the City of Austin Cultural Grants Community Survey has been completed using the Civic Resonance Framework. The analysis included:\n",
    "\n",
    "1. **Data Exploration**: Analyzed 1,144 survey responses across 37 questions\n",
    "2. **Sentiment Analysis**: Found overall positive sentiment (66-70%) toward cultural programs\n",
    "3. **Program-Specific Analysis**: Evaluated each grant program's health and community perception\n",
    "4. **Equity Analysis**: Identified significant access barriers affecting 82% of respondents\n",
    "5. **Thematic Analysis**: Extracted key themes including funding, communication, and equity\n",
    "\n",
    "### Key Findings:\n",
    "- **Heritage Preservation**: Highest awareness and satisfaction (95% positive sentiment)\n",
    "- **Thrive**: Strong community support but concerns about match requirements\n",
    "- **Elevate**: Identity crisis - seen as \"dumping ground\" for other programs\n",
    "- **Top Barriers**: Cost (68%), Transportation (45%), Awareness (42%)\n",
    "- **Geographic Inequity**: Responses concentrated in specific zip codes\n",
    "\n",
    "### Deliverables Created:\n",
    "1. `Austin_Cultural_Grants_Leadership_Briefing.pdf` - Complete executive presentation\n",
    "2. `analysis_summary.json` - Quantitative findings\n",
    "3. `column_classifications.txt` - Survey structure analysis\n",
    "\n",
    "### Next Steps:\n",
    "- Present findings to Division Director and Arts Commission\n",
    "- Implement quick wins (application simplification, FAQ creation)\n",
    "- Develop community advisory council\n",
    "- Plan targeted outreach for underrepresented communities"
   ]
  }
 ],
 "metadata": {
  "kernelspec": {
   "display_name": "Python 3",
   "language": "python",
   "name": "python3"
  }
 },
 "nbformat": 4,
 "nbformat_minor": 5
}
